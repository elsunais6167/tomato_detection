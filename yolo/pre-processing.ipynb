{
 "cells": [
  {
   "cell_type": "code",
   "execution_count": 2,
   "metadata": {},
   "outputs": [],
   "source": [
    "#importing libraries\n",
    "import os\n",
    "import shutil\n",
    "\n",
    "from random import choice"
   ]
  },
  {
   "cell_type": "code",
   "execution_count": 3,
   "metadata": {},
   "outputs": [
    {
     "name": "stdout",
     "output_type": "stream",
     "text": [
      "/home/el-sunais/devProjects/tomato_detection/yolo\n"
     ]
    }
   ],
   "source": [
    "%cd yolo"
   ]
  },
  {
   "cell_type": "code",
   "execution_count": 4,
   "metadata": {},
   "outputs": [
    {
     "name": "stdout",
     "output_type": "stream",
     "text": [
      "Total Training Images are :  317\n",
      "Total Validation Images are :  79\n"
     ]
    }
   ],
   "source": [
    "#files arrays\n",
    "img = []\n",
    "txt = []\n",
    "\n",
    "#path setting\n",
    "tpath = \"/home/el-sunais/devProjects/tomato_detection/yolo/data/images/train\"\n",
    "vpath = \"/home/el-sunais/devProjects/tomato_detection/yolo/data/images/val\"\n",
    "spath = \"/home/el-sunais/devProjects/tomato_detection/yolo/data/\"\n",
    "\n",
    "#data splitting ratio\n",
    "train_ratio = 0.8\n",
    "val_ratio = 0.2\n",
    "\n",
    "#image count\n",
    "img_cnt = len(os.listdir(spath))/2\n",
    "\n",
    "#image sorting\n",
    "for (dirname, dirs, files) in os.walk(spath):\n",
    "    for filename in files:\n",
    "        if filename.endswith('.txt'):\n",
    "            txt.append(filename)\n",
    "        else:\n",
    "            img.append(filename)\n",
    "\n",
    "#counting range\n",
    "cnt4trn = int(len(img)*train_ratio)\n",
    "cnt4val = int(len(img)*val_ratio)\n",
    "\n",
    "#printing output\n",
    "print(\"Total Training Images are : \", cnt4trn)\n",
    "print(\"Total Validation Images are : \", cnt4val)"
   ]
  },
  {
   "cell_type": "code",
   "execution_count": 5,
   "metadata": {},
   "outputs": [],
   "source": [
    "#%pwd\n",
    "#%cd ../\n",
    "#%cd data\n",
    "#%mkdir images labels\n",
    "#%cd images\n",
    "#%mkdir train val\n",
    "#%cd ../\n",
    "#%cd labels\n",
    "#%mkdir train val\n",
    "#%cd ../\n"
   ]
  },
  {
   "cell_type": "code",
   "execution_count": 6,
   "metadata": {},
   "outputs": [],
   "source": [
    "#adding dataset to yolo version data folder\n",
    "tr_img_path = \"/home/el-sunais/devProjects/tomato_detection/yolo/data/images/train\"\n",
    "tr_lbl_path = \"/home/el-sunais/devProjects/tomato_detection/yolo/data/labels/train\"\n",
    "vl_img_path = \"/home/el-sunais/devProjects/tomato_detection/yolo/data/images/val\"\n",
    "vl_lbl_path = \"/home/el-sunais/devProjects/tomato_detection/yolo/data/labels/val\"\n",
    "\n",
    "#cycle for training images\n",
    "for x in range(cnt4trn):\n",
    "    fl_img = choice(img) #selecting random images from data folder\n",
    "    fl_txt = fl_img[:-4] + '.txt' #selecting corresponding image annotation file\n",
    "\n",
    "    #copying dataset to data folder\n",
    "    shutil.copy(os.path.join(spath, fl_img), os.path.join(tr_img_path, fl_img))\n",
    "    shutil.copy(os.path.join(spath, fl_txt), os.path.join(tr_lbl_path, fl_txt))\n",
    "\n",
    "    #remove files from array\n",
    "    img.remove(fl_img)\n",
    "    txt.remove(fl_txt)\n",
    "\n",
    "#cycle for validation images\n",
    "for x in range(cnt4val):\n",
    "    fl_img = choice(img) #selecting random images from data folder\n",
    "    fl_txt = fl_img[:-4] + '.txt' #selecting corresponding image annotation file\n",
    "\n",
    "    #copying dataset to data folder\n",
    "    shutil.copy(os.path.join(spath, fl_img), os.path.join(vl_img_path, fl_img))\n",
    "    shutil.copy(os.path.join(spath, fl_txt), os.path.join(vl_lbl_path, fl_txt))\n",
    "\n",
    "    #remove files from array\n",
    "    img.remove(fl_img)\n",
    "    txt.remove(fl_txt)"
   ]
  }
 ],
 "metadata": {
  "kernelspec": {
   "display_name": "Python 3.10.4 64-bit",
   "language": "python",
   "name": "python3"
  },
  "language_info": {
   "codemirror_mode": {
    "name": "ipython",
    "version": 3
   },
   "file_extension": ".py",
   "mimetype": "text/x-python",
   "name": "python",
   "nbconvert_exporter": "python",
   "pygments_lexer": "ipython3",
   "version": "3.10.4"
  },
  "orig_nbformat": 4,
  "vscode": {
   "interpreter": {
    "hash": "e7370f93d1d0cde622a1f8e1c04877d8463912d04d973331ad4851f04de6915a"
   }
  }
 },
 "nbformat": 4,
 "nbformat_minor": 2
}
